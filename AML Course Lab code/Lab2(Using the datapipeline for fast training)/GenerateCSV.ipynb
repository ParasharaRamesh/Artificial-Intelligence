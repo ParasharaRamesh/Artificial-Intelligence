{
 "cells": [
  {
   "cell_type": "markdown",
   "metadata": {},
   "source": [
    "# Preprocess the ubyte files into images"
   ]
  },
  {
   "cell_type": "code",
   "execution_count": 22,
   "metadata": {},
   "outputs": [],
   "source": [
    "import gzip\n",
    "import csv\n",
    "import numpy as np\n",
    "import cv2 as cv\n",
    "import os"
   ]
  },
  {
   "cell_type": "code",
   "execution_count": 23,
   "metadata": {},
   "outputs": [],
   "source": [
    "LAB_PATH=os.path.abspath(os.curdir)\n",
    "DATASET_PATH=os.path.join(LAB_PATH,\"datasets\",\"byclass\",\"data\")\n",
    "train_data_filename = os.path.join(DATASET_PATH,\"emnist-byclass-train-images-idx3-ubyte.gz\")\n",
    "train_labels_filename= os.path.join(DATASET_PATH,\"emnist-byclass-train-labels-idx1-ubyte.gz\")\n",
    "test_data_filename =os.path.join(DATASET_PATH,\"emnist-byclass-test-images-idx3-ubyte.gz\")\n",
    "test_labels_filename = os.path.join(DATASET_PATH,\"emnist-byclass-test-labels-idx1-ubyte.gz\")\n"
   ]
  },
  {
   "cell_type": "code",
   "execution_count": 24,
   "metadata": {},
   "outputs": [],
   "source": [
    "try:\n",
    "    os.makedirs(\"train\")\n",
    "except:\n",
    "    pass"
   ]
  },
  {
   "cell_type": "code",
   "execution_count": 25,
   "metadata": {},
   "outputs": [],
   "source": [
    "try:\n",
    "    os.makedirs(\"test\")\n",
    "except:\n",
    "    pass"
   ]
  },
  {
   "cell_type": "code",
   "execution_count": 26,
   "metadata": {},
   "outputs": [],
   "source": [
    "def extract_data(filename, num_images):\n",
    "    \"\"\"Extract the images into a 4D tensor [image index, y, x, channels].\n",
    "    Values are rescaled from [0, 255] down to [-0.5, 0.5].\n",
    "    \"\"\"\n",
    "    print('Extracting', filename)\n",
    "    with gzip.open(filename) as bytestream:\n",
    "        bytestream.read(16)\n",
    "        buf = bytestream.read(28 * 28 * num_images)\n",
    "        data = np.frombuffer(buf, dtype=np.uint8).astype(np.float32)\n",
    "        #data = (data - (PIXEL_DEPTH / 2.0)) / PIXEL_DEPTH\n",
    "        data = data.reshape(num_images, 28, 28, 1)\n",
    "    return data"
   ]
  },
  {
   "cell_type": "code",
   "execution_count": 27,
   "metadata": {},
   "outputs": [],
   "source": [
    "def extract_labels(filename, num_images):\n",
    "    \"\"\"Extract the labels into a vector of int64 label IDs.\"\"\"\n",
    "    print('Extracting', filename)\n",
    "    with gzip.open(filename) as bytestream:\n",
    "        bytestream.read(8)\n",
    "        buf = bytestream.read(1 * num_images)\n",
    "        labels = np.frombuffer(buf, dtype=np.uint8).astype(np.int64)\n",
    "    return labels"
   ]
  },
  {
   "cell_type": "code",
   "execution_count": 28,
   "metadata": {},
   "outputs": [
    {
     "name": "stdout",
     "output_type": "stream",
     "text": [
      "Extracting C:\\Users\\Admin\\Desktop\\Parashara\\PESU\\7th semester\\AML\\Lab 2\\datasets\\byclass\\data\\emnist-byclass-train-images-idx3-ubyte.gz\n",
      "Extracting C:\\Users\\Admin\\Desktop\\Parashara\\PESU\\7th semester\\AML\\Lab 2\\datasets\\byclass\\data\\emnist-byclass-train-labels-idx1-ubyte.gz\n"
     ]
    }
   ],
   "source": [
    "train_data = extract_data(train_data_filename, 70000)\n",
    "train_labels = extract_labels(train_labels_filename, 70000)"
   ]
  },
  {
   "cell_type": "code",
   "execution_count": 29,
   "metadata": {},
   "outputs": [],
   "source": [
    "with open(\"train-labels.csv\", 'w') as csvFile:\n",
    "    writer = csv.writer(csvFile, delimiter=',', quotechar='\"')\n",
    "    for i in range(len(train_data)):\n",
    "        cv.imwrite(\"train/\" + str(i) + \".jpg\", train_data[i][:,:,0])\n",
    "        writer.writerow([\"train/\" + str(i) + \".jpg\", train_labels[i]])\n"
   ]
  },
  {
   "cell_type": "code",
   "execution_count": 30,
   "metadata": {},
   "outputs": [
    {
     "name": "stdout",
     "output_type": "stream",
     "text": [
      "Extracting C:\\Users\\Admin\\Desktop\\Parashara\\PESU\\7th semester\\AML\\Lab 2\\datasets\\byclass\\data\\emnist-byclass-test-images-idx3-ubyte.gz\n",
      "Extracting C:\\Users\\Admin\\Desktop\\Parashara\\PESU\\7th semester\\AML\\Lab 2\\datasets\\byclass\\data\\emnist-byclass-test-labels-idx1-ubyte.gz\n"
     ]
    }
   ],
   "source": [
    "test_data = extract_data(test_data_filename, 15000)\n",
    "test_labels = extract_labels(test_labels_filename, 15000)"
   ]
  },
  {
   "cell_type": "code",
   "execution_count": 31,
   "metadata": {},
   "outputs": [],
   "source": [
    "with open(\"test-labels.csv\", 'w') as csvFile:\n",
    "    writer = csv.writer(csvFile, delimiter=',', quotechar='\"')\n",
    "    for i in range(len(test_data)):\n",
    "        cv.imwrite(\"test/\" + str(i) + \".jpg\", test_data[i][:,:,0])\n",
    "        writer.writerow([\"test/\" + str(i) + \".jpg\", test_labels[i]])"
   ]
  }
 ],
 "metadata": {
  "kernelspec": {
   "display_name": "Python 3",
   "language": "python",
   "name": "python3"
  },
  "language_info": {
   "codemirror_mode": {
    "name": "ipython",
    "version": 3
   },
   "file_extension": ".py",
   "mimetype": "text/x-python",
   "name": "python",
   "nbconvert_exporter": "python",
   "pygments_lexer": "ipython3",
   "version": "3.5.5"
  }
 },
 "nbformat": 4,
 "nbformat_minor": 2
}
